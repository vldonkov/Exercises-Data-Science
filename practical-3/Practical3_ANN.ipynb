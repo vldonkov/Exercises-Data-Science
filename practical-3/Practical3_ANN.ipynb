{
  "nbformat": 4,
  "nbformat_minor": 0,
  "metadata": {
    "kernelspec": {
      "display_name": "Python 3",
      "language": "python",
      "name": "python3"
    },
    "language_info": {
      "codemirror_mode": {
        "name": "ipython",
        "version": 3
      },
      "file_extension": ".py",
      "mimetype": "text/x-python",
      "name": "python",
      "nbconvert_exporter": "python",
      "pygments_lexer": "ipython3",
      "version": "3.8.5"
    },
    "colab": {
      "name": "Practical3_ANN.ipynb",
      "provenance": [],
      "collapsed_sections": []
    }
  },
  "cells": [
    {
      "cell_type": "markdown",
      "metadata": {
        "id": "JSr2yiXFeK3p"
      },
      "source": [
        "# Practical 3: Artificial Neural Network\n",
        "\n",
        "This is the first task of Practical 3. You will build a neural network to classify the handwritten digits from the MNIST dataset (http://yann.lecun.com/exdb/mnist/). \n",
        "You will build the classifier from scartch. \n",
        "\n",
        "We will mark your code based on the accuracy of your model. You should get **at least 97%** accuracy on this dataset. Don't forget to save and check in your model. "
      ]
    },
    {
      "cell_type": "markdown",
      "metadata": {
        "id": "jDgoScSbeK3u"
      },
      "source": [
        "## Import the libraries"
      ]
    },
    {
      "cell_type": "code",
      "metadata": {
        "id": "MB1msUjheK3u"
      },
      "source": [
        "import numpy as np\n",
        "import pandas as pd\n",
        "import matplotlib.pyplot as plt\n",
        "\n",
        "import tensorflow as tf\n",
        "from tensorflow import keras"
      ],
      "execution_count": null,
      "outputs": []
    },
    {
      "cell_type": "code",
      "metadata": {
        "colab": {
          "base_uri": "https://localhost:8080/",
          "height": 35
        },
        "id": "LoqvcfT_eK3v",
        "outputId": "1b780617-62f2-4a8d-e0e0-2e483c5e477c"
      },
      "source": [
        "tf.__version__"
      ],
      "execution_count": null,
      "outputs": [
        {
          "output_type": "execute_result",
          "data": {
            "application/vnd.google.colaboratory.intrinsic+json": {
              "type": "string"
            },
            "text/plain": [
              "'2.4.0'"
            ]
          },
          "metadata": {
            "tags": []
          },
          "execution_count": 2
        }
      ]
    },
    {
      "cell_type": "code",
      "metadata": {
        "colab": {
          "base_uri": "https://localhost:8080/",
          "height": 35
        },
        "id": "UV-nclbNeK3w",
        "outputId": "eab6d1bf-e582-4bd3-b6b4-f731ee940dd1"
      },
      "source": [
        "tf.keras.__version__"
      ],
      "execution_count": null,
      "outputs": [
        {
          "output_type": "execute_result",
          "data": {
            "application/vnd.google.colaboratory.intrinsic+json": {
              "type": "string"
            },
            "text/plain": [
              "'2.4.0'"
            ]
          },
          "metadata": {
            "tags": []
          },
          "execution_count": 3
        }
      ]
    },
    {
      "cell_type": "markdown",
      "metadata": {
        "id": "lYiocVq9eK3w"
      },
      "source": [
        "## Prepare the dataset\n",
        "\n",
        "In this block, you will prepare the data for the training, such as normalisation. "
      ]
    },
    {
      "cell_type": "code",
      "metadata": {
        "colab": {
          "base_uri": "https://localhost:8080/",
          "height": 318
        },
        "id": "uDx1GjH5eK3w",
        "outputId": "a96a53ce-fade-465d-b262-16815a2aa7df"
      },
      "source": [
        "from keras.datasets import mnist\n",
        "(X_train_full, y_train_full), (X_test, y_test) = mnist.load_data()\n",
        "\n",
        "for i in range(0,9):\n",
        "    plt.subplot(330 + 1 + i)\n",
        "    plt.imshow(X_train_full[i])\n",
        "plt.show()\n",
        "\n",
        "# normalisation\n",
        "X_train_full = X_train_full/255.0\n",
        "X_test = X_test/255.0\n",
        "\n",
        "# Converts a class vector (integers) to one-hot encoding matrix.\n",
        "y_train_full = keras.utils.to_categorical(y_train_full, num_classes=10)\n",
        "y_test = keras.utils.to_categorical(y_test, num_classes=10)\n",
        "\n",
        "# get validation dataset\n",
        "# then we need to get the validation dataset. We take 5 thoudsands images randomly from the training data, as the validation data\n",
        "np.random.seed(42) \n",
        "shuffled_indices = np.random.permutation(X_train_full.shape[0])\n",
        "X_valid, X_train = X_train_full[shuffled_indices[:5000]], X_train_full[shuffled_indices[5000:]]\n",
        "y_valid, y_train = y_train_full[shuffled_indices[:5000]], y_train_full[shuffled_indices[5000:]]\n",
        "\n",
        "X_train.shape"
      ],
      "execution_count": null,
      "outputs": [
        {
          "output_type": "stream",
          "text": [
            "Downloading data from https://storage.googleapis.com/tensorflow/tf-keras-datasets/mnist.npz\n",
            "11493376/11490434 [==============================] - 0s 0us/step\n"
          ],
          "name": "stdout"
        },
        {
          "output_type": "display_data",
          "data": {
            "image/png": "[encoded data removed]",
            "text/plain": [
              "<Figure size 432x288 with 9 Axes>"
            ]
          },
          "metadata": {
            "tags": [],
            "needs_background": "light"
          }
        },
        {
          "output_type": "execute_result",
          "data": {
            "text/plain": [
              "(55000, 28, 28)"
            ]
          },
          "metadata": {
            "tags": []
          },
          "execution_count": 4
        }
      ]
    },
    {
      "cell_type": "markdown",
      "metadata": {
        "id": "Q5MRbFXweK3x"
      },
      "source": [
        "## Build and train the model\n",
        "\n",
        "Build and train your model. \n"
      ]
    },
    {
      "cell_type": "code",
      "metadata": {
        "colab": {
          "base_uri": "https://localhost:8080/"
        },
        "id": "l5PEPGtceK3x",
        "outputId": "491f5ba6-d86a-4a24-dd2c-bd12f72d7cef"
      },
      "source": [
        "# TODO: Build your model\n",
        "\n",
        "# A grid search was implemented in order to find the optimal hyperparameters of the ANN.\n",
        "# After obtaining the optimal parameters, the grid search code was commented out\n",
        "\n",
        "# Implementing a function which builds a keras model, depending on the provided parameters\n",
        "# def build_model(n_hidden=2, n_neurons=64, dropout_rate=0.2, learning_rate=1e-4, input_shape=[28, 28]):\n",
        "#   model = keras.models.Sequential()\n",
        "#   model.add(keras.layers.Flatten(input_shape=input_shape))\n",
        "#   model.add(keras.layers.Dropout(rate=dropout_rate))\n",
        "#   for layer in range(n_hidden):\n",
        "#     model.add(keras.layers.Dense(n_neurons, activation=\"relu\", kernel_initializer=\"he_normal\"))\n",
        "#     model.add(keras.layers.BatchNormalization())\n",
        "#     model.add(keras.layers.Dropout(rate=dropout_rate))\n",
        "#   model.add(keras.layers.Dense(10, activation=\"softmax\"))\n",
        "#   optimizer = keras.optimizers.Adam(learning_rate=learning_rate)\n",
        "#   model.compile(loss=\"categorical_crossentropy\", optimizer=optimizer, metrics=[\"accuracy\"])\n",
        "#   return model\n",
        "\n",
        "# Transfer the keras model to a scikit-learn regressor so we can utilise the helper functions provided by scikit-learn\n",
        "# keras_class = keras.wrappers.scikit_learn.KerasClassifier(build_model)\n",
        "\n",
        "# from sklearn.model_selection import GridSearchCV\n",
        "\n",
        "# Defining the grid with hyperparameters to search from\n",
        "# param_distributions = {\n",
        "#     \"n_hidden\": [2, 3],\n",
        "#     \"n_neurons\": [64, 128, 256, 512],\n",
        "#     \"dropout_rate\": [0.2, 0.5],\n",
        "#     \"learning_rate\": [1e-4, 1e-3, 1e-2],\n",
        "# }\n",
        "\n",
        "# Training models with various combinations of hyperparameters\n",
        "# grid_search_cv = GridSearchCV(estimator=keras_class,\n",
        "#                               param_grid=param_distributions,\n",
        "#                               cv=3)\n",
        "# grid_search_cv.fit(X_train_full, y_train_full, epochs=5)\n",
        "\n",
        "# Printing out the best combination of hyperparameters (with regards to cross-validation accuracy)\n",
        "# print(grid_search_cv.best_params_)\n",
        "\n",
        "# Creating the keras model with the optimal hyperparameters according to the results\n",
        "# of the grid search\n",
        "model = keras.models.Sequential()\n",
        "model.add(keras.layers.Flatten(input_shape=[28, 28]))\n",
        "model.add(keras.layers.Dropout(rate=0.2))\n",
        "model.add(keras.layers.Dense(512, activation=\"relu\", kernel_initializer=\"he_normal\"))\n",
        "model.add(keras.layers.BatchNormalization())\n",
        "model.add(keras.layers.Dropout(rate=0.2))\n",
        "model.add(keras.layers.Dense(512, activation=\"relu\", kernel_initializer=\"he_normal\"))\n",
        "model.add(keras.layers.BatchNormalization())\n",
        "model.add(keras.layers.Dropout(rate=0.2))\n",
        "model.add(keras.layers.Dense(10, activation=\"softmax\"))\n",
        "model.compile(loss=\"categorical_crossentropy\",\n",
        "              optimizer=keras.optimizers.Adam(lr=1e-3),\n",
        "              metrics=[\"accuracy\"])\n",
        "# Implementing early stopping in order to prevent overfitting and using as many\n",
        "# epochs as necessary\n",
        "early_stopping_cb = keras.callbacks.EarlyStopping(patience=10, restore_best_weights=True)\n",
        "history = model.fit(X_train, y_train, batch_size=32, epochs=100,\n",
        "                    validation_data=(X_valid, y_valid),\n",
        "                    callbacks=[early_stopping_cb])"
      ],
      "execution_count": null,
      "outputs": [
        {
          "output_type": "stream",
          "text": [
            "Epoch 1/100\n",
            "1719/1719 [==============================] - 7s 4ms/step - loss: 0.4714 - accuracy: 0.8576 - val_loss: 0.1200 - val_accuracy: 0.9632\n",
            "Epoch 2/100\n",
            "1719/1719 [==============================] - 6s 3ms/step - loss: 0.1838 - accuracy: 0.9430 - val_loss: 0.0978 - val_accuracy: 0.9706\n",
            "Epoch 3/100\n",
            "1719/1719 [==============================] - 6s 4ms/step - loss: 0.1559 - accuracy: 0.9507 - val_loss: 0.0738 - val_accuracy: 0.9770\n",
            "Epoch 4/100\n",
            "1719/1719 [==============================] - 6s 4ms/step - loss: 0.1300 - accuracy: 0.9588 - val_loss: 0.0819 - val_accuracy: 0.9734\n",
            "Epoch 5/100\n",
            "1719/1719 [==============================] - 6s 4ms/step - loss: 0.1179 - accuracy: 0.9627 - val_loss: 0.0759 - val_accuracy: 0.9772\n",
            "Epoch 6/100\n",
            "1719/1719 [==============================] - 7s 4ms/step - loss: 0.1057 - accuracy: 0.9661 - val_loss: 0.0807 - val_accuracy: 0.9794\n",
            "Epoch 7/100\n",
            "1719/1719 [==============================] - 6s 4ms/step - loss: 0.0968 - accuracy: 0.9695 - val_loss: 0.0654 - val_accuracy: 0.9824\n",
            "Epoch 8/100\n",
            "1719/1719 [==============================] - 6s 4ms/step - loss: 0.0898 - accuracy: 0.9717 - val_loss: 0.0594 - val_accuracy: 0.9840\n",
            "Epoch 9/100\n",
            "1719/1719 [==============================] - 6s 4ms/step - loss: 0.0841 - accuracy: 0.9723 - val_loss: 0.0565 - val_accuracy: 0.9844\n",
            "Epoch 10/100\n",
            "1719/1719 [==============================] - 6s 4ms/step - loss: 0.0782 - accuracy: 0.9741 - val_loss: 0.0701 - val_accuracy: 0.9800\n",
            "Epoch 11/100\n",
            "1719/1719 [==============================] - 6s 4ms/step - loss: 0.0715 - accuracy: 0.9769 - val_loss: 0.0610 - val_accuracy: 0.9818\n",
            "Epoch 12/100\n",
            "1719/1719 [==============================] - 6s 4ms/step - loss: 0.0699 - accuracy: 0.9766 - val_loss: 0.0545 - val_accuracy: 0.9844\n",
            "Epoch 13/100\n",
            "1719/1719 [==============================] - 6s 4ms/step - loss: 0.0633 - accuracy: 0.9793 - val_loss: 0.0531 - val_accuracy: 0.9838\n",
            "Epoch 14/100\n",
            "1719/1719 [==============================] - 6s 4ms/step - loss: 0.0701 - accuracy: 0.9775 - val_loss: 0.0576 - val_accuracy: 0.9854\n",
            "Epoch 15/100\n",
            "1719/1719 [==============================] - 6s 3ms/step - loss: 0.0588 - accuracy: 0.9806 - val_loss: 0.0568 - val_accuracy: 0.9850\n",
            "Epoch 16/100\n",
            "1719/1719 [==============================] - 7s 4ms/step - loss: 0.0610 - accuracy: 0.9804 - val_loss: 0.0598 - val_accuracy: 0.9850\n",
            "Epoch 17/100\n",
            "1719/1719 [==============================] - 6s 4ms/step - loss: 0.0573 - accuracy: 0.9816 - val_loss: 0.0554 - val_accuracy: 0.9850\n",
            "Epoch 18/100\n",
            "1719/1719 [==============================] - 6s 4ms/step - loss: 0.0574 - accuracy: 0.9808 - val_loss: 0.0571 - val_accuracy: 0.9858\n",
            "Epoch 19/100\n",
            "1719/1719 [==============================] - 6s 3ms/step - loss: 0.0544 - accuracy: 0.9819 - val_loss: 0.0526 - val_accuracy: 0.9858\n",
            "Epoch 20/100\n",
            "1719/1719 [==============================] - 6s 3ms/step - loss: 0.0494 - accuracy: 0.9842 - val_loss: 0.0581 - val_accuracy: 0.9856\n",
            "Epoch 21/100\n",
            "1719/1719 [==============================] - 6s 4ms/step - loss: 0.0512 - accuracy: 0.9833 - val_loss: 0.0536 - val_accuracy: 0.9858\n",
            "Epoch 22/100\n",
            "1719/1719 [==============================] - 6s 4ms/step - loss: 0.0467 - accuracy: 0.9842 - val_loss: 0.0505 - val_accuracy: 0.9878\n",
            "Epoch 23/100\n",
            "1719/1719 [==============================] - 6s 4ms/step - loss: 0.0504 - accuracy: 0.9826 - val_loss: 0.0559 - val_accuracy: 0.9856\n",
            "Epoch 24/100\n",
            "1719/1719 [==============================] - 6s 4ms/step - loss: 0.0488 - accuracy: 0.9838 - val_loss: 0.0543 - val_accuracy: 0.9854\n",
            "Epoch 25/100\n",
            "1719/1719 [==============================] - 6s 4ms/step - loss: 0.0449 - accuracy: 0.9852 - val_loss: 0.0641 - val_accuracy: 0.9830\n",
            "Epoch 26/100\n",
            "1719/1719 [==============================] - 6s 4ms/step - loss: 0.0431 - accuracy: 0.9858 - val_loss: 0.0559 - val_accuracy: 0.9852\n",
            "Epoch 27/100\n",
            "1719/1719 [==============================] - 6s 4ms/step - loss: 0.0446 - accuracy: 0.9857 - val_loss: 0.0584 - val_accuracy: 0.9862\n",
            "Epoch 28/100\n",
            "1719/1719 [==============================] - 6s 4ms/step - loss: 0.0413 - accuracy: 0.9864 - val_loss: 0.0537 - val_accuracy: 0.9852\n",
            "Epoch 29/100\n",
            "1719/1719 [==============================] - 7s 4ms/step - loss: 0.0432 - accuracy: 0.9851 - val_loss: 0.0523 - val_accuracy: 0.9856\n",
            "Epoch 30/100\n",
            "1719/1719 [==============================] - 6s 4ms/step - loss: 0.0379 - accuracy: 0.9870 - val_loss: 0.0550 - val_accuracy: 0.9862\n",
            "Epoch 31/100\n",
            "1719/1719 [==============================] - 6s 4ms/step - loss: 0.0399 - accuracy: 0.9873 - val_loss: 0.0512 - val_accuracy: 0.9872\n",
            "Epoch 32/100\n",
            "1719/1719 [==============================] - 6s 4ms/step - loss: 0.0399 - accuracy: 0.9865 - val_loss: 0.0484 - val_accuracy: 0.9870\n",
            "Epoch 33/100\n",
            "1719/1719 [==============================] - 6s 4ms/step - loss: 0.0378 - accuracy: 0.9878 - val_loss: 0.0472 - val_accuracy: 0.9884\n",
            "Epoch 34/100\n",
            "1719/1719 [==============================] - 7s 4ms/step - loss: 0.0381 - accuracy: 0.9873 - val_loss: 0.0478 - val_accuracy: 0.9886\n",
            "Epoch 35/100\n",
            "1719/1719 [==============================] - 6s 4ms/step - loss: 0.0359 - accuracy: 0.9876 - val_loss: 0.0516 - val_accuracy: 0.9884\n",
            "Epoch 36/100\n",
            "1719/1719 [==============================] - 6s 4ms/step - loss: 0.0329 - accuracy: 0.9892 - val_loss: 0.0524 - val_accuracy: 0.9878\n",
            "Epoch 37/100\n",
            "1719/1719 [==============================] - 6s 4ms/step - loss: 0.0353 - accuracy: 0.9879 - val_loss: 0.0477 - val_accuracy: 0.9882\n",
            "Epoch 38/100\n",
            "1719/1719 [==============================] - 6s 4ms/step - loss: 0.0370 - accuracy: 0.9874 - val_loss: 0.0472 - val_accuracy: 0.9882\n",
            "Epoch 39/100\n",
            "1719/1719 [==============================] - 6s 4ms/step - loss: 0.0318 - accuracy: 0.9890 - val_loss: 0.0559 - val_accuracy: 0.9868\n",
            "Epoch 40/100\n",
            "1719/1719 [==============================] - 6s 4ms/step - loss: 0.0320 - accuracy: 0.9897 - val_loss: 0.0496 - val_accuracy: 0.9876\n",
            "Epoch 41/100\n",
            "1719/1719 [==============================] - 6s 4ms/step - loss: 0.0351 - accuracy: 0.9884 - val_loss: 0.0532 - val_accuracy: 0.9876\n",
            "Epoch 42/100\n",
            "1719/1719 [==============================] - 6s 4ms/step - loss: 0.0313 - accuracy: 0.9900 - val_loss: 0.0489 - val_accuracy: 0.9872\n",
            "Epoch 43/100\n",
            "1719/1719 [==============================] - 6s 4ms/step - loss: 0.0339 - accuracy: 0.9890 - val_loss: 0.0484 - val_accuracy: 0.9872\n",
            "Epoch 44/100\n",
            "1719/1719 [==============================] - 6s 3ms/step - loss: 0.0323 - accuracy: 0.9898 - val_loss: 0.0496 - val_accuracy: 0.9872\n",
            "Epoch 45/100\n",
            "1719/1719 [==============================] - 6s 4ms/step - loss: 0.0296 - accuracy: 0.9904 - val_loss: 0.0478 - val_accuracy: 0.9884\n",
            "Epoch 46/100\n",
            "1719/1719 [==============================] - 6s 4ms/step - loss: 0.0314 - accuracy: 0.9900 - val_loss: 0.0594 - val_accuracy: 0.9860\n",
            "Epoch 47/100\n",
            "1719/1719 [==============================] - 6s 4ms/step - loss: 0.0298 - accuracy: 0.9900 - val_loss: 0.0585 - val_accuracy: 0.9870\n",
            "Epoch 48/100\n",
            "1719/1719 [==============================] - 6s 4ms/step - loss: 0.0293 - accuracy: 0.9901 - val_loss: 0.0514 - val_accuracy: 0.9864\n"
          ],
          "name": "stdout"
        }
      ]
    },
    {
      "cell_type": "code",
      "metadata": {
        "colab": {
          "base_uri": "https://localhost:8080/"
        },
        "id": "zvN3dFpSeK3x",
        "outputId": "a5778ef6-1165-4d8f-fbc8-702cea7f9703"
      },
      "source": [
        "# show the structure of your model\n",
        "model.summary()"
      ],
      "execution_count": null,
      "outputs": [
        {
          "output_type": "stream",
          "text": [
            "Model: \"sequential_4\"\n",
            "_________________________________________________________________\n",
            "Layer (type)                 Output Shape              Param #   \n",
            "=================================================================\n",
            "flatten_4 (Flatten)          (None, 784)               0         \n",
            "_________________________________________________________________\n",
            "dropout_12 (Dropout)         (None, 784)               0         \n",
            "_________________________________________________________________\n",
            "dense_12 (Dense)             (None, 512)               401920    \n",
            "_________________________________________________________________\n",
            "batch_normalization_8 (Batch (None, 512)               2048      \n",
            "_________________________________________________________________\n",
            "dropout_13 (Dropout)         (None, 512)               0         \n",
            "_________________________________________________________________\n",
            "dense_13 (Dense)             (None, 512)               262656    \n",
            "_________________________________________________________________\n",
            "batch_normalization_9 (Batch (None, 512)               2048      \n",
            "_________________________________________________________________\n",
            "dropout_14 (Dropout)         (None, 512)               0         \n",
            "_________________________________________________________________\n",
            "dense_14 (Dense)             (None, 10)                5130      \n",
            "=================================================================\n",
            "Total params: 673,802\n",
            "Trainable params: 671,754\n",
            "Non-trainable params: 2,048\n",
            "_________________________________________________________________\n"
          ],
          "name": "stdout"
        }
      ]
    },
    {
      "cell_type": "code",
      "metadata": {
        "colab": {
          "base_uri": "https://localhost:8080/",
          "height": 487
        },
        "id": "48Zt9Eq6eK3y",
        "outputId": "9a2e87f9-5eb0-428e-9abf-a3b966500008"
      },
      "source": [
        "# Assume you have stored the training history in the variable \"history\"\n",
        "# Show the learning curves\n",
        "pd.DataFrame(history.history).plot(figsize=(12, 8))\n",
        "plt.gca().set_ylim(0, 1)\n",
        "plt.grid(True)\n",
        "plt.show()"
      ],
      "execution_count": null,
      "outputs": [
        {
          "output_type": "display_data",
          "data": {
            "image/png": "[encoded data removed]",
            "text/plain": [
              "<Figure size 864x576 with 1 Axes>"
            ]
          },
          "metadata": {
            "tags": [],
            "needs_background": "light"
          }
        }
      ]
    },
    {
      "cell_type": "markdown",
      "metadata": {
        "id": "BDNx9tRIeK3y"
      },
      "source": [
        "## Save the model"
      ]
    },
    {
      "cell_type": "code",
      "metadata": {
        "id": "FNE9lNpteK3y"
      },
      "source": [
        "model.save('mnist.h5') "
      ],
      "execution_count": null,
      "outputs": []
    },
    {
      "cell_type": "markdown",
      "metadata": {
        "id": "PboeBLdbeK3y"
      },
      "source": [
        "## Load the model and evaluate it on the test data"
      ]
    },
    {
      "cell_type": "code",
      "metadata": {
        "colab": {
          "base_uri": "https://localhost:8080/"
        },
        "id": "xgURnUnseK3z",
        "outputId": "9ecd327a-ecb4-4cb0-85ea-f1ddade6dd34"
      },
      "source": [
        "model = keras.models.load_model(\"mnist.h5\")\n",
        "model.evaluate(X_test, y_test)"
      ],
      "execution_count": null,
      "outputs": [
        {
          "output_type": "stream",
          "text": [
            "313/313 [==============================] - 1s 2ms/step - loss: 0.0448 - accuracy: 0.9872\n"
          ],
          "name": "stdout"
        },
        {
          "output_type": "execute_result",
          "data": {
            "text/plain": [
              "[0.04479704797267914, 0.9872000217437744]"
            ]
          },
          "metadata": {
            "tags": []
          },
          "execution_count": 32
        }
      ]
    },
    {
      "cell_type": "markdown",
      "metadata": {
        "id": "dR5YqdVJeK3z"
      },
      "source": [
        "## Short report\n",
        "\n",
        "Please write briefly how you build and train the model. Please include the decisions you made, such as why you use x number layers, and the difficulties you met."
      ]
    },
    {
      "cell_type": "markdown",
      "metadata": {
        "id": "aHRjM9GOeK3z"
      },
      "source": [
        "In order to find good hyperparameters (with regards to cross-validation accuracy) for our ANN, we make use of an extensive grid search. The grid search took about one hour, using Colab's GPU.\r\n",
        "\r\n",
        "To limit the scope of the grid search, we decided to test only 2 or 3 hidden layers. In addition, we tested different constant number of neuros per layer (up to 512). With this number of hidden layers and neurons per layer, the model should be complex enough and should not have high bias. To prevent from overfitting, we implemented dropout regularisation, with varying degrees of dropout rate.\r\n",
        "\r\n",
        "The model with the best parameters according to our grid search has 2 hidden layers with 512 neurons each. The dropout rate is set to 0.2. To limit the problem of vanishing/exploding gradients, we use ReLU activation functions for the hidden layers, with a corresponding He initialisation of the weights. To that end, batch normalisation after the activation functions is also utilized.\r\n",
        "\r\n",
        "Although our model is not so deep, we still decided to use batch normalisation. Because the model is not so complex, it does not considerably slow down the training process.\r\n",
        "\r\n",
        "We use the Adam optimiser instead of SGD, as it requires less steps to converge. We tested batch sizes of 32, 64 and 128. Although training was much faster with a batch size of 128, the achieved accuracy was lower (around 0.9850 on test set) than with a batch size of 32 (around 0.9872 on test set). Therefore we chose a batch size of 32 for our final model.\r\n",
        "\r\n",
        "The reason for testing hyperparameters as powers of 2 (batch size, number of nodes per layer) is simply due to convention.\r\n",
        "\r\n",
        "We chose the number of epochs to be 100 and implemented early stopping, in order to find parameters which are not overfitting.\r\n",
        "\r\n",
        "The most difficult decision we had to make was at the beginning, when we had to decide how many hidden layers the model should have. We tried out hidden layers of 1, 2 and 5 with different numbers of neurons. After getting more familiar with the complexity of the underlying problem, we simply decided to go for a grid search, as we had access to Colab's GPU, which significantly decreased run-time.\r\n",
        "\r\n",
        "With the help of this practical we learned how to implement grid search for finding the optimal parameters of an Artificial Neural Network. We also understood better the relationship between number of nodes, number of layers and regularisation (dropout rate).\r\n",
        "\r\n",
        "The practical was mainly completed by Vladimir, however Fabian provided valuable insights during the implementation. The results have also been discussed with Fabian."
      ]
    }
  ]
}